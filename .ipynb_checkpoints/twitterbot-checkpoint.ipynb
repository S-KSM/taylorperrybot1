{
 "cells": [
  {
   "cell_type": "code",
   "execution_count": 1,
   "metadata": {
    "collapsed": false,
    "scrolled": true
   },
   "outputs": [],
   "source": [
    "import requests\n",
    "from requests_oauthlib import OAuth1\n",
    "import config\n",
    "from bs4 import BeautifulSoup\n",
    "import re\n",
    "import time\n",
    "import pickle"
   ]
  },
  {
   "cell_type": "code",
   "execution_count": 2,
   "metadata": {
    "collapsed": false
   },
   "outputs": [],
   "source": [
    "url = 'https://api.twitter.com/1.1/account/verify_credentials.json'\n",
    "auth = OAuth1(config.CONSUMER_KEY, config.CONSUMER_SECRET,\n",
    "                  config.ACCESS_TOKEN, config.ACCESS_SECRET)\n",
    "\n"
   ]
  },
  {
   "cell_type": "code",
   "execution_count": 3,
   "metadata": {
    "collapsed": false
   },
   "outputs": [],
   "source": [
    "r = requests.get('https://api.twitter.com/1.1/statuses/user_timeline.json',params={'screen_name':'katyperry'},auth=auth)"
   ]
  },
  {
   "cell_type": "code",
   "execution_count": 4,
   "metadata": {
    "collapsed": false
   },
   "outputs": [
    {
     "data": {
      "text/plain": [
       "'tbh shakespeare 🎭  https://t.co/cbegran1Nh'"
      ]
     },
     "execution_count": 4,
     "metadata": {},
     "output_type": "execute_result"
    }
   ],
   "source": [
    "r.json()[0]['text']"
   ]
  },
  {
   "cell_type": "code",
   "execution_count": 5,
   "metadata": {
    "collapsed": false
   },
   "outputs": [
    {
     "data": {
      "text/plain": [
       "<Response [200]>"
      ]
     },
     "execution_count": 5,
     "metadata": {},
     "output_type": "execute_result"
    }
   ],
   "source": [
    "requests.post('https://api.twitter.com/1.1/statuses/update.json',auth=auth,\n",
    "              params = {'status':'Next Step: Learn to speak #botproblems'})"
   ]
  },
  {
   "cell_type": "code",
   "execution_count": 6,
   "metadata": {
    "collapsed": false
   },
   "outputs": [],
   "source": [
    "r = requests.get('https://api.twitter.com/1.1/statuses/user_timeline.json',\n",
    "                 params={'screen_name':'katyperry','count':1},auth=auth)"
   ]
  },
  {
   "cell_type": "code",
   "execution_count": 6,
   "metadata": {
    "collapsed": false
   },
   "outputs": [],
   "source": [
    "#requests.get('https://stream.twitter.com/1.1/statuses/filter.json?',auth=auth,\n",
    "#            params = {'track':'taylorkatybot1'})"
   ]
  },
  {
   "cell_type": "markdown",
   "metadata": {
    "collapsed": true
   },
   "source": [
    "# Downloading lyrics"
   ]
  },
  {
   "cell_type": "markdown",
   "metadata": {},
   "source": [
    "## Katy Perry lyrics"
   ]
  },
  {
   "cell_type": "code",
   "execution_count": 7,
   "metadata": {
    "collapsed": false
   },
   "outputs": [
    {
     "name": "stdout",
     "output_type": "stream",
     "text": [
      "https://api.twitter.com/1.1/account/verify_credentials.json\n",
      "http://www.azlyrics.com/lyrics/katyperry/dressinup.html\n",
      "http://www.azlyrics.com/lyrics/katyperry/darkhorse.html\n",
      "http://www.azlyrics.com/lyrics/katyperry/thisishowwedo.html\n",
      "http://www.azlyrics.com/lyrics/katyperry/ghost.html\n",
      "http://www.azlyrics.com/lyrics/katyperry/loveme.html\n",
      "http://www.azlyrics.com/lyrics/katyperry/doublerainbow.html\n",
      "http://www.azlyrics.com/lyrics/katyperry/bythegraceofgod.html\n",
      "http://www.azlyrics.com/lyrics/katyperry/spiritual.html\n",
      "http://www.azlyrics.com/lyrics/katyperry/chooseyourbattles.html\n",
      "http://www.azlyrics.com/lyrics/katyperry/blackandgold.html\n",
      "http://www.azlyrics.com/lyrics/katyperry/brickbybrick.html\n",
      "http://www.azlyrics.com/lyrics/katyperry/bullet.html\n",
      "http://www.azlyrics.com/lyrics/katyperry/damn.html\n",
      "http://www.azlyrics.com/lyrics/katyperry/diamonds.html\n",
      "http://www.azlyrics.com/lyrics/katyperry/et152121.html\n",
      "http://www.azlyrics.com/lyrics/katyperry/electricfeel.html\n",
      "http://www.azlyrics.com/lyrics/katyperry/everydayisaholiday.html\n",
      "http://www.azlyrics.com/lyrics/katyperry/hackensack.html\n",
      "http://www.azlyrics.com/lyrics/katyperry/headoverheels.html\n",
      "http://www.azlyrics.com/lyrics/katyperry/inbetween.html\n",
      "http://www.azlyrics.com/lyrics/katyperry/nothinglikethefirsttime.html\n",
      "http://www.azlyrics.com/lyrics/katyperry/simple.html\n",
      "http://www.azlyrics.com/lyrics/katyperry/wishyoutheworst.html\n"
     ]
    }
   ],
   "source": [
    "header = {'user-agent': 'Mozilla/5.0 (Macintosh; Intel Mac OS X 10.9; rv:32.0) Gecko/20100101 Firefox/32.0',}\n",
    "r_lyrics = requests.get('http://www.azlyrics.com/k/katyperry.html',headers=header)\n",
    "\n",
    "html_doc = r_lyrics.content\n",
    "soup = BeautifulSoup(html_doc, 'html.parser')\n",
    "lyrics_katy = []\n",
    "for i in soup.findAll('a',target=\"_blank\"):\n",
    "    try:\n",
    "        url = 'http://www.azlyrics.com'+ re.findall(r'href=\"\\.\\.(.*)?l\"',str(i))[0]+\"l\"\n",
    "        temp = requests.get(url,headers=header)\n",
    "        \n",
    "        html_doc = temp.content\n",
    "        \n",
    "        soup = BeautifulSoup(html_doc, 'html.parser')\n",
    "        \n",
    "        lyrics_katy.append(soup.text.split(\"KATY PERRY LYRICS\")[2].split(\"if  ( /Android|webOS|iPhone\")[0])\n",
    "        time.sleep(2)\n",
    "    except:\n",
    "        print(url)\n",
    "        \n",
    "pickle.dump(lyrics_katy,open(\"lyrics_katy.p\",\"wb\"))\n"
   ]
  },
  {
   "cell_type": "markdown",
   "metadata": {},
   "source": [
    "## Taylor Swift"
   ]
  },
  {
   "cell_type": "code",
   "execution_count": 8,
   "metadata": {
    "collapsed": false
   },
   "outputs": [
    {
     "name": "stdout",
     "output_type": "stream",
     "text": [
      "https://api.twitter.com/1.1/account/verify_credentials.json\n",
      "http://www.azlyrics.com/lyrics/taylorswift/thebestday.html\n",
      "http://www.azlyrics.com/lyrics/taylorswift/change.html\n",
      "http://www.azlyrics.com/lyrics/taylorswift/mine.html\n",
      "http://www.azlyrics.com/lyrics/taylorswift/sparksfly.html\n",
      "http://www.azlyrics.com/lyrics/taylorswift/backtodecember.html\n",
      "http://www.azlyrics.com/lyrics/taylorswift/speaknow.html\n",
      "http://www.azlyrics.com/lyrics/taylorswift/dearjohn.html\n",
      "http://www.azlyrics.com/lyrics/taylorswift/mean.html\n",
      "http://www.azlyrics.com/lyrics/taylorswift/thestoryofus.html\n",
      "http://www.azlyrics.com/lyrics/taylorswift/nevergrowup.html\n",
      "http://www.azlyrics.com/lyrics/taylorswift/enchanted.html\n",
      "http://www.azlyrics.com/lyrics/taylorswift/betterthanrevenge.html\n",
      "http://www.azlyrics.com/lyrics/taylorswift/innocent.html\n",
      "http://www.azlyrics.com/lyrics/taylorswift/haunted.html\n",
      "http://www.azlyrics.com/lyrics/taylorswift/lastkiss.html\n",
      "http://www.azlyrics.com/lyrics/taylorswift/longlive.html\n",
      "http://www.azlyrics.com/lyrics/taylorswift/ours.html\n",
      "http://www.azlyrics.com/lyrics/taylorswift/ifthiswasamovie.html\n",
      "http://www.azlyrics.com/lyrics/taylorswift/superman.html\n",
      "http://www.azlyrics.com/lyrics/taylorswift/stateofgrace.html\n",
      "http://www.azlyrics.com/lyrics/taylorswift/red.html\n",
      "http://www.azlyrics.com/lyrics/taylorswift/treacherous.html\n",
      "http://www.azlyrics.com/lyrics/taylorswift/iknewyouweretrouble.html\n",
      "http://www.azlyrics.com/lyrics/taylorswift/alltoowell.html\n",
      "http://www.azlyrics.com/lyrics/taylorswift/22.html\n",
      "http://www.azlyrics.com/lyrics/taylorswift/ialmostdo.html\n",
      "http://www.azlyrics.com/lyrics/taylorswift/weareneverevergettingbacktogether.html\n",
      "http://www.azlyrics.com/lyrics/taylorswift/staystaystay.html\n",
      "http://www.azlyrics.com/lyrics/taylorswift/thelasttime.html\n",
      "http://www.azlyrics.com/lyrics/taylorswift/holyground.html\n",
      "http://www.azlyrics.com/lyrics/taylorswift/sadbeautifultragic.html\n",
      "http://www.azlyrics.com/lyrics/taylorswift/theluckyone.html\n",
      "http://www.azlyrics.com/lyrics/taylorswift/everythinghaschanged.html\n",
      "http://www.azlyrics.com/lyrics/taylorswift/starlight.html\n",
      "http://www.azlyrics.com/lyrics/taylorswift/beginagain.html\n",
      "http://www.azlyrics.com/lyrics/taylorswift/themomentiknew.html\n",
      "http://www.azlyrics.com/lyrics/taylorswift/comebackbehere.html\n",
      "http://www.azlyrics.com/lyrics/taylorswift/girlathome.html\n",
      "http://www.azlyrics.com/lyrics/taylorswift/welcometonewyork.html\n",
      "http://www.azlyrics.com/lyrics/taylorswift/blankspace.html\n",
      "http://www.azlyrics.com/lyrics/taylorswift/style.html\n",
      "http://www.azlyrics.com/lyrics/taylorswift/outofthewoods.html\n",
      "http://www.azlyrics.com/lyrics/taylorswift/allyouhadtodowasstay.html\n",
      "http://www.azlyrics.com/lyrics/taylorswift/shakeitoff.html\n",
      "http://www.azlyrics.com/lyrics/taylorswift/iwishyouwould.html\n",
      "http://www.azlyrics.com/lyrics/taylorswift/badblood.html\n",
      "http://www.azlyrics.com/lyrics/taylorswift/wildestdreams.html\n",
      "http://www.azlyrics.com/lyrics/taylorswift/howyougetthegirl.html\n",
      "http://www.azlyrics.com/lyrics/taylorswift/thislove.html\n",
      "http://www.azlyrics.com/lyrics/taylorswift/iknowplaces.html\n",
      "http://www.azlyrics.com/lyrics/taylorswift/clean.html\n",
      "http://www.azlyrics.com/lyrics/taylorswift/wonderland.html\n",
      "http://www.azlyrics.com/lyrics/taylorswift/youareinlove.html\n",
      "http://www.azlyrics.com/lyrics/taylorswift/newromantics.html\n",
      "http://www.azlyrics.com/lyrics/taylorswift/aintnothingboutyou.html\n",
      "http://www.azlyrics.com/lyrics/taylorswift/allbecauseofellen.html\n",
      "http://www.azlyrics.com/lyrics/taylorswift/allnightdiner.html\n",
      "http://www.azlyrics.com/lyrics/taylorswift/amireadyforlove.html\n",
      "http://www.azlyrics.com/lyrics/taylorswift/americanboy.html\n",
      "http://www.azlyrics.com/lyrics/taylorswift/americangirl.html\n",
      "http://www.azlyrics.com/lyrics/taylorswift/angelina.html\n",
      "http://www.azlyrics.com/lyrics/taylorswift/babydontyoubreakmyheartslow.html\n",
      "http://www.azlyrics.com/lyrics/taylorswift/backtodecemberapologizeyourenotsorry.html\n",
      "http://www.azlyrics.com/lyrics/taylorswift/badbloodremix.html\n",
      "http://www.azlyrics.com/lyrics/taylorswift/beautifuleyes.html\n",
      "http://www.azlyrics.com/lyrics/taylorswift/beingwithmybaby.html\n",
      "http://www.azlyrics.com/lyrics/taylorswift/bettedaviseyes.html\n",
      "http://www.azlyrics.com/lyrics/taylorswift/betteroff.html\n",
      "http://www.azlyrics.com/lyrics/taylorswift/breathless.html\n",
      "http://www.azlyrics.com/lyrics/taylorswift/broughtupthatway.html\n",
      "http://www.azlyrics.com/lyrics/taylorswift/bytheway.html\n",
      "http://www.azlyrics.com/lyrics/taylorswift/canigowithyou.html\n",
      "http://www.azlyrics.com/lyrics/taylorswift/closesttoacowboy.html\n",
      "http://www.azlyrics.com/lyrics/taylorswift/crazier.html\n",
      "http://www.azlyrics.com/lyrics/taylorswift/crossmyheart.html\n",
      "http://www.azlyrics.com/lyrics/taylorswift/darkbluetennessee.html\n",
      "http://www.azlyrics.com/lyrics/taylorswift/didntthey.html\n",
      "http://www.azlyrics.com/lyrics/taylorswift/donthatemeforlovingyou.html\n",
      "http://www.azlyrics.com/lyrics/taylorswift/downcametherain.html\n",
      "http://www.azlyrics.com/lyrics/taylorswift/dropsofjupiter.html\n",
      "http://www.azlyrics.com/lyrics/taylorswift/eyesopen.html\n",
      "http://www.azlyrics.com/lyrics/taylorswift/fallbackonyou.html\n",
      "http://www.azlyrics.com/lyrics/taylorswift/firefly.html\n",
      "http://www.azlyrics.com/lyrics/taylorswift/gracie.html\n",
      "http://www.azlyrics.com/lyrics/taylorswift/hopelesslydevotedtoyou.html\n",
      "http://www.azlyrics.com/lyrics/taylorswift/iheart.html\n",
      "http://www.azlyrics.com/lyrics/taylorswift/iknewyouweretroubleremix.html\n",
      "http://www.azlyrics.com/lyrics/taylorswift/iknowwhatiwant.html\n",
      "http://www.azlyrics.com/lyrics/taylorswift/iusedtofly.html\n",
      "http://www.azlyrics.com/lyrics/taylorswift/iwantyouback.html\n",
      "http://www.azlyrics.com/lyrics/taylorswift/iwishedonaplane.html\n",
      "http://www.azlyrics.com/lyrics/taylorswift/idlie.html\n",
      "http://www.azlyrics.com/lyrics/taylorswift/justsouthofknowingwhy.html\n",
      "http://www.azlyrics.com/lyrics/taylorswift/longtimecoming.html\n",
      "http://www.azlyrics.com/lyrics/taylorswift/lovetolose.html\n",
      "http://www.azlyrics.com/lyrics/taylorswift/luckyyou.html\n",
      "http://www.azlyrics.com/lyrics/taylorswift/madeupyou.html\n",
      "http://www.azlyrics.com/lyrics/taylorswift/makingupforlostlove.html\n",
      "http://www.azlyrics.com/lyrics/taylorswift/mandolin.html\n",
      "http://www.azlyrics.com/lyrics/taylorswift/matches.html\n",
      "http://www.azlyrics.com/lyrics/taylorswift/meandbritney.html\n",
      "http://www.azlyrics.com/lyrics/taylorswift/monologuesonglalala.html\n",
      "http://www.azlyrics.com/lyrics/taylorswift/mycure.html\n",
      "http://www.azlyrics.com/lyrics/taylorswift/myturntobeme.html\n",
      "http://www.azlyrics.com/lyrics/taylorswift/nashville.html\n",
      "http://www.azlyrics.com/lyrics/taylorswift/needyounow.html\n",
      "http://www.azlyrics.com/lyrics/taylorswift/neverfade.html\n",
      "http://www.azlyrics.com/lyrics/taylorswift/nevermind.html\n",
      "http://www.azlyrics.com/lyrics/taylorswift/onething.html\n",
      "http://www.azlyrics.com/lyrics/taylorswift/onewayticket.html\n",
      "http://www.azlyrics.com/lyrics/taylorswift/ourlastnight.html\n",
      "http://www.azlyrics.com/lyrics/taylorswift/permanentmarker.html\n",
      "http://www.azlyrics.com/lyrics/taylorswift/revenge.html\n",
      "http://www.azlyrics.com/lyrics/taylorswift/riptide.html\n",
      "http://www.azlyrics.com/lyrics/taylorswift/ronan.html\n",
      "http://www.azlyrics.com/lyrics/taylorswift/run.html\n",
      "http://www.azlyrics.com/lyrics/taylorswift/safesound.html\n",
      "http://www.azlyrics.com/lyrics/taylorswift/samegirl.html\n",
      "http://www.azlyrics.com/lyrics/taylorswift/smokeyblacknights.html\n",
      "http://www.azlyrics.com/lyrics/taylorswift/spinningaround.html\n",
      "http://www.azlyrics.com/lyrics/taylorswift/stupidboy.html\n",
      "http://www.azlyrics.com/lyrics/taylorswift/sweetescape.html\n",
      "http://www.azlyrics.com/lyrics/taylorswift/sweetteaandgodsgraces.html\n",
      "http://www.azlyrics.com/lyrics/taylorswift/sweeterthanfiction.html\n",
      "http://www.azlyrics.com/lyrics/taylorswift/tellme.html\n",
      "http://www.azlyrics.com/lyrics/taylorswift/tendollarsandasixpack.html\n",
      "http://www.azlyrics.com/lyrics/taylorswift/thatswhen.html\n",
      "http://www.azlyrics.com/lyrics/taylorswift/thediaryofme.html\n",
      "http://www.azlyrics.com/lyrics/taylorswift/theresyourtrouble.html\n",
      "http://www.azlyrics.com/lyrics/taylorswift/thirteenblockscantcallitlove.html\n",
      "http://www.azlyrics.com/lyrics/taylorswift/thishereguitar.html\n",
      "http://www.azlyrics.com/lyrics/taylorswift/thisisreallyhappening.html\n",
      "http://www.azlyrics.com/lyrics/taylorswift/thugstory.html\n",
      "http://www.azlyrics.com/lyrics/taylorswift/tilbradpittcomesalong.html\n",
      "http://www.azlyrics.com/lyrics/taylorswift/todaywasafairytale.html\n",
      "http://www.azlyrics.com/lyrics/taylorswift/undermyhead.html\n",
      "http://www.azlyrics.com/lyrics/taylorswift/vivalavida.html\n",
      "http://www.azlyrics.com/lyrics/taylorswift/waitforme.html\n",
      "http://www.azlyrics.com/lyrics/taylorswift/wewerehappy.html\n",
      "http://www.azlyrics.com/lyrics/taylorswift/welcomedistraction.html\n",
      "http://www.azlyrics.com/lyrics/taylorswift/whatdoyousay.html\n",
      "http://www.azlyrics.com/lyrics/taylorswift/whattowear.html\n",
      "http://www.azlyrics.com/lyrics/taylorswift/whoivealwaysbeen.html\n",
      "http://www.azlyrics.com/lyrics/taylorswift/writingsongsaboutyou.html\n",
      "http://www.azlyrics.com/lyrics/taylorswift/youdo.html\n",
      "http://www.azlyrics.com/lyrics/taylorswift/youranything.html\n",
      "http://www.azlyrics.com/lyrics/taylorswift/yourface.html\n"
     ]
    }
   ],
   "source": [
    "header = {'user-agent': 'Mozilla/5.0 (Macintosh; Intel Mac OS X 10.9; rv:32.0) Gecko/20100101 Firefox/32.0',}\n",
    "r_lyrics = requests.get('http://www.azlyrics.com/t/taylorswift.html',headers=header)\n",
    "\n",
    "html_doc = r_lyrics.content\n",
    "soup = BeautifulSoup(html_doc, 'html.parser')\n",
    "lyrics_taylor = []\n",
    "for i in soup.findAll('a',target=\"_blank\"):\n",
    "    try:\n",
    "        url = 'http://www.azlyrics.com'+ re.findall(r'href=\"\\.\\.(.*)?l\"',str(i))[0]+\"l\"\n",
    "        temp = requests.get(url,headers=header)\n",
    "        \n",
    "        html_doc = temp.content\n",
    "        \n",
    "        soup = BeautifulSoup(html_doc, 'html.parser')\n",
    "        \n",
    "        lyrics_taylor.append(soup.text.split(\"TAYLOR SWIFT LYRICS\")[2].split(\"if  ( /Android|webOS|iPhone\")[0])\n",
    "        time.sleep(2)\n",
    "    except:\n",
    "        print(url)\n",
    "        \n",
    "pickle.dump(lyrics_taylor,open(\"lyrics_taylor.p\",\"wb\"))\n"
   ]
  },
  {
   "cell_type": "code",
   "execution_count": 10,
   "metadata": {
    "collapsed": false
   },
   "outputs": [
    {
     "data": {
      "text/plain": [
       "59"
      ]
     },
     "execution_count": 10,
     "metadata": {},
     "output_type": "execute_result"
    }
   ],
   "source": [
    "len(lyrics_katy)"
   ]
  },
  {
   "cell_type": "markdown",
   "metadata": {},
   "source": [
    "## Teach the bot to speak!"
   ]
  },
  {
   "cell_type": "code",
   "execution_count": null,
   "metadata": {
    "collapsed": true
   },
   "outputs": [],
   "source": [
    "def markovgen(text):\n",
    "    #order 2\n",
    "    markovdict = {}\n",
    "    textlist = text.strip().split(\" \")\n",
    "    for i in range(len(textlist)):\n",
    "        if not textlist[i] in markovdict:\n",
    "            markovdict[textlist[i]] = {}\n",
    "        else:\n",
    "            markovdict[textlist[i]][textlist[i+1]] = 1\n",
    "        "
   ]
  }
 ],
 "metadata": {
  "anaconda-cloud": {},
  "kernelspec": {
   "display_name": "Python 3",
   "language": "python",
   "name": "python3"
  },
  "language_info": {
   "codemirror_mode": {
    "name": "ipython",
    "version": 3
   },
   "file_extension": ".py",
   "mimetype": "text/x-python",
   "name": "python",
   "nbconvert_exporter": "python",
   "pygments_lexer": "ipython3",
   "version": "3.5.1"
  }
 },
 "nbformat": 4,
 "nbformat_minor": 0
}
