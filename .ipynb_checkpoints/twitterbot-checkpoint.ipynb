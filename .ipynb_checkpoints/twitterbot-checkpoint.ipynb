{
 "cells": [
  {
   "cell_type": "code",
   "execution_count": 71,
   "metadata": {
    "collapsed": false,
    "scrolled": true
   },
   "outputs": [],
   "source": [
    "import requests\n",
    "from requests_oauthlib import OAuth1\n",
    "import config\n",
    "from bs4 import BeautifulSoup\n",
    "import re\n",
    "import time"
   ]
  },
  {
   "cell_type": "code",
   "execution_count": 2,
   "metadata": {
    "collapsed": false
   },
   "outputs": [],
   "source": [
    "url = 'https://api.twitter.com/1.1/account/verify_credentials.json'\n",
    "auth = OAuth1(config.CONSUMER_KEY, config.CONSUMER_SECRET,\n",
    "                  config.ACCESS_TOKEN, config.ACCESS_SECRET)\n",
    "\n"
   ]
  },
  {
   "cell_type": "code",
   "execution_count": 3,
   "metadata": {
    "collapsed": false
   },
   "outputs": [],
   "source": [
    "r = requests.get('https://api.twitter.com/1.1/statuses/user_timeline.json',params={'screen_name':'katyperry'},auth=auth)"
   ]
  },
  {
   "cell_type": "code",
   "execution_count": 4,
   "metadata": {
    "collapsed": false
   },
   "outputs": [
    {
     "data": {
      "text/plain": [
       "'👼🏻 luminary fairy 👼🏻 @ Burning Man https://t.co/N2ENwLknBt'"
      ]
     },
     "execution_count": 4,
     "metadata": {},
     "output_type": "execute_result"
    }
   ],
   "source": [
    "r.json()[0]['text']"
   ]
  },
  {
   "cell_type": "code",
   "execution_count": 26,
   "metadata": {
    "collapsed": false
   },
   "outputs": [
    {
     "data": {
      "text/plain": [
       "<Response [200]>"
      ]
     },
     "execution_count": 26,
     "metadata": {},
     "output_type": "execute_result"
    }
   ],
   "source": [
    "requests.post('https://api.twitter.com/1.1/statuses/update.json',auth=auth,\n",
    "              params = {'status':'Next Step: Learn to speak #botproblems'})"
   ]
  },
  {
   "cell_type": "code",
   "execution_count": 31,
   "metadata": {
    "collapsed": false
   },
   "outputs": [],
   "source": [
    "r = requests.get('https://api.twitter.com/1.1/statuses/user_timeline.json',\n",
    "                 params={'screen_name':'katyperry','count':1},auth=auth)"
   ]
  },
  {
   "cell_type": "code",
   "execution_count": 6,
   "metadata": {
    "collapsed": false
   },
   "outputs": [],
   "source": [
    "#requests.get('https://stream.twitter.com/1.1/statuses/filter.json?',auth=auth,\n",
    "#            params = {'track':'taylorkatybot1'})"
   ]
  },
  {
   "cell_type": "markdown",
   "metadata": {
    "collapsed": true
   },
   "source": [
    "# Downloading lyrics"
   ]
  },
  {
   "cell_type": "markdown",
   "metadata": {},
   "source": [
    "## Katy Perry lyrics"
   ]
  },
  {
   "cell_type": "code",
   "execution_count": 107,
   "metadata": {
    "collapsed": false
   },
   "outputs": [
    {
     "name": "stdout",
     "output_type": "stream",
     "text": [
      "http://www.azlyrics.com/lyrics/katyperry/trustinme.html\n",
      "http://www.azlyrics.com/lyrics/katyperry/dressinup.html\n",
      "http://www.azlyrics.com/lyrics/katyperry/darkhorseremix.html\n",
      "http://www.azlyrics.com/lyrics/katyperry/diamonds.html\n",
      "http://www.azlyrics.com/lyrics/katyperry/et152121.html\n",
      "http://www.azlyrics.com/lyrics/katyperry/electricfeel.html\n",
      "http://www.azlyrics.com/lyrics/katyperry/everydayisaholiday.html\n",
      "http://www.azlyrics.com/lyrics/katyperry/hackensack.html\n",
      "http://www.azlyrics.com/lyrics/katyperry/headoverheels.html\n",
      "http://www.azlyrics.com/lyrics/katyperry/hookup.html\n",
      "http://www.azlyrics.com/lyrics/katyperry/inbetween.html\n",
      "http://www.azlyrics.com/lyrics/katyperry/itsokaytobelieve.html\n",
      "http://www.azlyrics.com/lyrics/katyperry/milkmilklemonade.html\n",
      "http://www.azlyrics.com/lyrics/katyperry/nothinglikethefirsttime.html\n",
      "http://www.azlyrics.com/lyrics/katyperry/rise.html\n",
      "http://www.azlyrics.com/lyrics/katyperry/simple.html\n",
      "http://www.azlyrics.com/lyrics/katyperry/theonethatgotawayremix.html\n",
      "http://www.azlyrics.com/lyrics/katyperry/useyourlove.html\n",
      "http://www.azlyrics.com/lyrics/katyperry/wishyoutheworst.html\n"
     ]
    }
   ],
   "source": [
    "header = {'user-agent': 'Mozilla/5.0 (Macintosh; Intel Mac OS X 10.9; rv:32.0) Gecko/20100101 Firefox/32.0',}\n",
    "r_lyrics = requests.get('http://www.azlyrics.com/k/katyperry.html',headers=header)\n",
    "\n",
    "html_doc = r_lyrics.content\n",
    "soup = BeautifulSoup(html_doc, 'html.parser')\n",
    "lyrics_katy = []\n",
    "for i in soup.findAll('a',target=\"_blank\"):\n",
    "    try:\n",
    "        url = 'http://www.azlyrics.com'+ re.findall(r'href=\"\\.\\.(.*)?l\"',str(i))[0]+\"l\"\n",
    "        temp = requests.get(url,headers=header)\n",
    "        \n",
    "        html_doc = temp.content\n",
    "        \n",
    "        soup = BeautifulSoup(html_doc, 'html.parser')\n",
    "        \n",
    "        lyrics_katy.append(soup.text.split(\"KATY PERRY LYRICS\")[2].split(\"if  ( /Android|webOS|iPhone\")[0])\n",
    "        time.sleep(2)\n",
    "    except:\n",
    "        print(url)"
   ]
  },
  {
   "cell_type": "markdown",
   "metadata": {},
   "source": [
    "## Taylor Swift"
   ]
  },
  {
   "cell_type": "code",
   "execution_count": null,
   "metadata": {
    "collapsed": true
   },
   "outputs": [],
   "source": [
    "header = {'user-agent': 'Mozilla/5.0 (Macintosh; Intel Mac OS X 10.9; rv:32.0) Gecko/20100101 Firefox/32.0',}\n",
    "r_lyrics = requests.get('http://www.azlyrics.com/k/katyperry.html',headers=header)\n",
    "\n",
    "html_doc = r_lyrics.content\n",
    "soup = BeautifulSoup(html_doc, 'html.parser')\n",
    "lyrics_taylor = []\n",
    "for i in soup.findAll('a',target=\"_blank\"):\n",
    "    try:\n",
    "        url = 'http://www.azlyrics.com'+ re.findall(r'href=\"\\.\\.(.*)?l\"',str(i))[0]+\"l\"\n",
    "        temp = requests.get(url,headers=header)\n",
    "        \n",
    "        html_doc = temp.content\n",
    "        \n",
    "        soup = BeautifulSoup(html_doc, 'html.parser')\n",
    "        \n",
    "        lyrics_ktaylor.append(soup.text.split(\"KATY PERRY LYRICS\")[2].split(\"if  ( /Android|webOS|iPhone\")[0])\n",
    "        time.sleep(2)\n",
    "    except:\n",
    "        print(url)"
   ]
  },
  {
   "cell_type": "code",
   "execution_count": null,
   "metadata": {
    "collapsed": true
   },
   "outputs": [],
   "source": []
  }
 ],
 "metadata": {
  "anaconda-cloud": {},
  "kernelspec": {
   "display_name": "Python 3",
   "language": "python",
   "name": "python3"
  },
  "language_info": {
   "codemirror_mode": {
    "name": "ipython",
    "version": 3
   },
   "file_extension": ".py",
   "mimetype": "text/x-python",
   "name": "python",
   "nbconvert_exporter": "python",
   "pygments_lexer": "ipython3",
   "version": "3.5.1"
  }
 },
 "nbformat": 4,
 "nbformat_minor": 0
}
