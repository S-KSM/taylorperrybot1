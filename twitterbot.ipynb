{
 "cells": [
  {
   "cell_type": "code",
   "execution_count": 2,
   "metadata": {
    "collapsed": false,
    "scrolled": true
   },
   "outputs": [],
   "source": [
    "import requests\n",
    "from requests_oauthlib import OAuth1\n",
    "import config\n",
    "from bs4 import BeautifulSoup\n",
    "import re\n",
    "import time\n",
    "import pickle"
   ]
  },
  {
   "cell_type": "code",
   "execution_count": 3,
   "metadata": {
    "collapsed": false
   },
   "outputs": [],
   "source": [
    "url = 'https://api.twitter.com/1.1/account/verify_credentials.json'\n",
    "auth = OAuth1(config.CONSUMER_KEY, config.CONSUMER_SECRET,\n",
    "                  config.ACCESS_TOKEN, config.ACCESS_SECRET)\n",
    "\n"
   ]
  },
  {
   "cell_type": "code",
   "execution_count": 4,
   "metadata": {
    "collapsed": false
   },
   "outputs": [],
   "source": [
    "r = requests.get('https://api.twitter.com/1.1/statuses/user_timeline.json',params={'screen_name':'katyperry'},auth=auth)"
   ]
  },
  {
   "cell_type": "code",
   "execution_count": 5,
   "metadata": {
    "collapsed": false
   },
   "outputs": [
    {
     "data": {
      "text/plain": [
       "'tbh shakespeare 🎭  https://t.co/cbegran1Nh'"
      ]
     },
     "execution_count": 5,
     "metadata": {},
     "output_type": "execute_result"
    }
   ],
   "source": [
    "r.json()[0]['text']"
   ]
  },
  {
   "cell_type": "code",
   "execution_count": null,
   "metadata": {
    "collapsed": false
   },
   "outputs": [],
   "source": [
    "requests.post('https://api.twitter.com/1.1/statuses/update.json',auth=auth,\n",
    "              params = {'status':'Next Step: Learn to speak #botproblems'})"
   ]
  },
  {
   "cell_type": "code",
   "execution_count": null,
   "metadata": {
    "collapsed": false
   },
   "outputs": [],
   "source": [
    "r = requests.get('https://api.twitter.com/1.1/statuses/user_timeline.json',\n",
    "                 params={'screen_name':'katyperry','count':1},auth=auth)"
   ]
  },
  {
   "cell_type": "code",
   "execution_count": null,
   "metadata": {
    "collapsed": false
   },
   "outputs": [],
   "source": [
    "#requests.get('https://stream.twitter.com/1.1/statuses/filter.json?',auth=auth,\n",
    "#            params = {'track':'taylorkatybot1'})"
   ]
  },
  {
   "cell_type": "markdown",
   "metadata": {
    "collapsed": true
   },
   "source": [
    "# Downloading lyrics"
   ]
  },
  {
   "cell_type": "markdown",
   "metadata": {},
   "source": [
    "## Katy Perry lyrics"
   ]
  },
  {
   "cell_type": "markdown",
   "metadata": {},
   "source": [
    "# Katy Perry $2^{nd}$ Try:"
   ]
  },
  {
   "cell_type": "code",
   "execution_count": 7,
   "metadata": {
    "collapsed": true
   },
   "outputs": [],
   "source": [
    "header = {'user-agent': 'Mozilla/5.0 (Macintosh; Intel Mac OS X 10.9; rv:32.0) Gecko/20100101 Firefox/32.0',}\n",
    "r_lyrics = requests.get('http://www.elyrics.net/song/k/katy-perry-lyrics.html',headers=header)\n",
    "\n",
    "html_doc = r_lyrics.content\n",
    "soup = BeautifulSoup(html_doc, 'html.parser')\n",
    "lyrics_katy = []\n",
    "soup = soup.find(\"div\", { \"class\" : \"song2\" })\n",
    "for link in soup.findAll('a'):\n",
    "    url = str(\"http://www.elyrics.net\")+link.get('href')\n",
    "    try:\n",
    "        \n",
    "        temp = requests.get(url,headers=header)\n",
    "        \n",
    "        html_doc = temp.content\n",
    "        \n",
    "        temp1 = BeautifulSoup(html_doc, 'html.parser')\n",
    "        for songs in temp1.findAll('div',{'id':'inlyr'}):\n",
    "            lyrics_katy.append(songs.text)\n",
    "        time.sleep(2)\n",
    "    except:\n",
    "        print(url)\n",
    "        \n",
    "pickle.dump(lyrics_katy,open(\"lyrics_katy.p\",\"wb\"))\n"
   ]
  },
  {
   "cell_type": "markdown",
   "metadata": {},
   "source": [
    "## Taylor Swift"
   ]
  },
  {
   "cell_type": "markdown",
   "metadata": {
    "collapsed": false
   },
   "source": [
    "# Taylor Swift Lyrics $2^{nd}$ Try"
   ]
  },
  {
   "cell_type": "code",
   "execution_count": 6,
   "metadata": {
    "collapsed": false
   },
   "outputs": [],
   "source": [
    "header = {'user-agent': 'Mozilla/5.0 (Macintosh; Intel Mac OS X 10.9; rv:32.0) Gecko/20100101 Firefox/32.0',}\n",
    "r_lyrics = requests.get('http://www.elyrics.net/song/t/taylor-swift-lyrics.html',headers=header)\n",
    "\n",
    "html_doc = r_lyrics.content\n",
    "soup = BeautifulSoup(html_doc, 'html.parser')\n",
    "lyrics_taylor = []\n",
    "soup = soup.find(\"div\", { \"class\" : \"song2\" })\n",
    "for link in soup.findAll('a'):\n",
    "    url = str(\"http://www.elyrics.net\")+link.get('href')\n",
    "    try:\n",
    "        \n",
    "        temp = requests.get(url,headers=header)\n",
    "        \n",
    "        html_doc = temp.content\n",
    "        \n",
    "        temp1 = BeautifulSoup(html_doc, 'html.parser')\n",
    "        for songs in temp1.findAll('div',{'id':'inlyr'}):\n",
    "            lyrics_taylor.append(songs.text)\n",
    "        time.sleep(2)\n",
    "    except:\n",
    "        print(url)\n",
    "        \n",
    "pickle.dump(lyrics_taylor,open(\"lyrics_taylor.p\",\"wb\"))\n"
   ]
  },
  {
   "cell_type": "code",
   "execution_count": 9,
   "metadata": {
    "collapsed": false
   },
   "outputs": [
    {
     "ename": "TypeError",
     "evalue": "file must have 'read' and 'readline' attributes",
     "output_type": "error",
     "traceback": [
      "\u001b[1;31m---------------------------------------------------------------------------\u001b[0m",
      "\u001b[1;31mTypeError\u001b[0m                                 Traceback (most recent call last)",
      "\u001b[1;32m<ipython-input-9-bbfa9d09c88f>\u001b[0m in \u001b[0;36m<module>\u001b[1;34m()\u001b[0m\n\u001b[1;32m----> 1\u001b[1;33m \u001b[0mpickle\u001b[0m\u001b[1;33m.\u001b[0m\u001b[0mload\u001b[0m\u001b[1;33m(\u001b[0m\u001b[1;34m\"lyrics_katy.p\"\u001b[0m\u001b[1;33m)\u001b[0m\u001b[1;33m\u001b[0m\u001b[0m\n\u001b[0m",
      "\u001b[1;31mTypeError\u001b[0m: file must have 'read' and 'readline' attributes"
     ]
    }
   ],
   "source": [
    "pickle.load(ope\"lyrics_katy.p\")"
   ]
  },
  {
   "cell_type": "markdown",
   "metadata": {},
   "source": [
    "## Teach the bot to speak!"
   ]
  },
  {
   "cell_type": "code",
   "execution_count": null,
   "metadata": {
    "collapsed": true
   },
   "outputs": [],
   "source": [
    "def markovgen(text):\n",
    "    #order 2\n",
    "    markovdict = {}\n",
    "    textlist = text.strip().split(\" \")\n",
    "    for i in range(len(textlist)):\n",
    "        if not textlist[i] in markovdict:\n",
    "            markovdict[textlist[i]] = {}\n",
    "        else:\n",
    "            markovdict[textlist[i]][textlist[i+1]] = 1\n",
    "        "
   ]
  }
 ],
 "metadata": {
  "anaconda-cloud": {},
  "kernelspec": {
   "display_name": "Python 3",
   "language": "python",
   "name": "python3"
  },
  "language_info": {
   "codemirror_mode": {
    "name": "ipython",
    "version": 3
   },
   "file_extension": ".py",
   "mimetype": "text/x-python",
   "name": "python",
   "nbconvert_exporter": "python",
   "pygments_lexer": "ipython3",
   "version": "3.5.1"
  }
 },
 "nbformat": 4,
 "nbformat_minor": 0
}
